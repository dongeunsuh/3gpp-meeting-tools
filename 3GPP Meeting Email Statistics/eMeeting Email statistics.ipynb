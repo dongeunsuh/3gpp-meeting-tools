{
 "cells": [
  {
   "cell_type": "code",
   "execution_count": null,
   "metadata": {},
   "outputs": [],
   "source": [
    "# Input information\n",
    "email_dump    = \"2020.06.04 182340 email summary.csv\"\n",
    "\n",
    "# SA2-139E\n",
    "meeting_dates = ['2020-05-31 12:00','2020-06-05']"
   ]
  },
  {
   "cell_type": "code",
   "execution_count": null,
   "metadata": {},
   "outputs": [],
   "source": [
    "# You will need pandas/numpy to run the first part of the script. Then plotly for the second part. You can install plotly via pip (pip install plotly)\n",
    "# If the PNG export is not working, most probably orca is not installed. You can install it by executing in the Anaconda cmd: conda install -c plotly plotly-orca\n",
    "import pandas as pd\n",
    "import numpy as np\n",
    "import plotly.express as px"
   ]
  },
  {
   "cell_type": "code",
   "execution_count": null,
   "metadata": {},
   "outputs": [],
   "source": [
    "df = pd.read_csv(\n",
    "    email_dump,\n",
    "    index_col=0)\n",
    "df['date']    = pd.to_datetime(df['date'])\n",
    "df['day']     = df['date'].dt.floor('d')\n",
    "df['hour']    = df['date'].dt.floor('h')\n",
    "df['company'] = df['sender address'].str.split('@', n = -1, expand = False).apply(lambda x: x[-1])"
   ]
  },
  {
   "cell_type": "code",
   "execution_count": null,
   "metadata": {},
   "outputs": [],
   "source": [
    "df"
   ]
  },
  {
   "cell_type": "code",
   "execution_count": null,
   "metadata": {},
   "outputs": [],
   "source": [
    "email_count_per_ai   = df.groupby('ai').count()\n",
    "email_count_per_day  = df.groupby('day').count()\n",
    "email_count_per_hour = df.groupby('hour').count()"
   ]
  },
  {
   "cell_type": "code",
   "execution_count": null,
   "metadata": {},
   "outputs": [],
   "source": [
    "max_rows = pd.options.display.max_rows\n",
    "pd.options.display.max_rows = None\n",
    "emails_count = df.groupby('sender name').count().sort_values(by='date', ascending=False)\n",
    "# See https://stackoverflow.com/questions/49574817/fill-a-new-pandas-column-with-row-numbers\n",
    "emails_count['ranking'] = np.arange(len(emails_count)) + 1\n",
    "emails_count['emails'] = emails_count['date']\n",
    "display(emails_count[['ranking', 'emails']].iloc[0:25,:])\n",
    "pd.options.display.max_rows = 60"
   ]
  },
  {
   "cell_type": "code",
   "execution_count": null,
   "metadata": {},
   "outputs": [],
   "source": [
    "max_rows = pd.options.display.max_rows\n",
    "pd.options.display.max_rows = None\n",
    "emails_count_company = df.groupby('company').count().sort_values(by='date', ascending=False)\n",
    "\n",
    "# See https://stackoverflow.com/questions/49574817/fill-a-new-pandas-column-with-row-numbers\n",
    "emails_count_company['ranking'] = np.arange(len(emails_count_company)) + 1\n",
    "emails_count_company['emails'] = emails_count_company['date']\n",
    "display(emails_count_company[['ranking', 'emails']].iloc[0:20,:])\n",
    "pd.options.display.max_rows = 60"
   ]
  },
  {
   "cell_type": "code",
   "execution_count": null,
   "metadata": {},
   "outputs": [],
   "source": [
    "import plotly.express as px\n",
    "import plotly.io as pio\n",
    "import plotly.graph_objects as go"
   ]
  },
  {
   "cell_type": "code",
   "execution_count": null,
   "metadata": {
    "scrolled": false
   },
   "outputs": [],
   "source": [
    "data = go.Bar(\n",
    "    x=email_count_per_ai.index, \n",
    "    y=email_count_per_ai['date'])\n",
    "layout = go.Layout(\n",
    "    xaxis= {'type': 'category'},\n",
    "    title='Emails per #AI (total {0})'.format(email_count_per_ai['date'].sum()))\n",
    "fig = go.Figure(data=data, layout=layout)\n",
    "fig.show()\n",
    "fig.write_html( \"Emails per AI.html\", auto_open=True)\n",
    "fig.write_image(\"Emails per AI.png\")"
   ]
  },
  {
   "cell_type": "raw",
   "metadata": {},
   "source": [
    "data = go.Bar(\n",
    "    x=email_count_per_day.index, \n",
    "    y=email_count_per_day['date'],\n",
    "    width=1000*3600*24/10)\n",
    "layout = go.Layout(\n",
    "    title='Emails per day (total {0})'.format(email_count_per_ai['date'].sum()),\n",
    "    xaxis_tickformat = '%d.%m',\n",
    "    xaxis_range = meeting_dates,\n",
    "    xaxis = { 'dtick': 1000*3600*24 })\n",
    "fig = go.Figure(data=data, layout=layout)\n",
    "fig.show()\n",
    "fig.write_html( \"Emails per day.html\", auto_open=True)\n",
    "fig.write_image(\"Emails per day.png\")"
   ]
  },
  {
   "cell_type": "code",
   "execution_count": null,
   "metadata": {},
   "outputs": [],
   "source": [
    "# Data source for emails/day per AI\n",
    "email_count_per_day_and_ai = df.groupby(['ai', 'day']).count()\n",
    "\n",
    "ai_plot = {}\n",
    "ais = df.ai.unique()\n",
    "for ai in ais:\n",
    "    ai_plot[ai] = email_count_per_day_and_ai[email_count_per_day_and_ai.index.isin([ai], level=0)]['date']"
   ]
  },
  {
   "cell_type": "code",
   "execution_count": null,
   "metadata": {},
   "outputs": [],
   "source": [
    "layout = go.Layout(\n",
    "    title='Emails per day and AI (total {0})'.format(email_count_per_ai['date'].sum()),\n",
    "    xaxis_tickformat = '%d.%m %Hh',\n",
    "    xaxis_range = meeting_dates)\n",
    "\n",
    "fig = go.Figure(layout=layout)\n",
    "\n",
    "for ai in ais:\n",
    "    bar_data = ai_plot[ai]\n",
    "    bar_y = bar_data\n",
    "    bar_x = bar_data.index.get_level_values(1)\n",
    "    bar_title = ai\n",
    "    data = go.Bar(\n",
    "        x=bar_x, \n",
    "        y=bar_y,\n",
    "        name=bar_title)\n",
    "    fig.add_trace(data)\n",
    "\n",
    "fig.update_layout(barmode='relative')\n",
    "fig.show()\n",
    "fig.write_html( \"Emails per day and AI.html\", auto_open=True)\n",
    "fig.write_image(\"Emails per day and AI.png\")"
   ]
  },
  {
   "cell_type": "raw",
   "metadata": {},
   "source": [
    "# Deactivated cell (we already have the plot per AI)\n",
    "data = go.Bar(\n",
    "    x=email_count_per_hour.index, \n",
    "    y=email_count_per_hour['date'])\n",
    "layout = go.Layout(\n",
    "    title='Emails per hour (total {0})'.format(email_count_per_ai['date'].sum()),\n",
    "    xaxis_tickformat = '%d.%m %Hh',\n",
    "    xaxis_range = meeting_dates)\n",
    "fig = go.Figure(data=data, layout=layout)\n",
    "fig.show()\n",
    "fig.write_html( \"Emails per hour.html\", auto_open=True)\n",
    "fig.write_image(\"Emails per hour.png\")"
   ]
  },
  {
   "cell_type": "code",
   "execution_count": null,
   "metadata": {},
   "outputs": [],
   "source": [
    "# Data source for emails/h per AI\n",
    "email_count_per_hour_and_ai = df.groupby(['ai', 'hour']).count()\n",
    "\n",
    "ai_plot = {}\n",
    "ais = df.ai.unique()\n",
    "for ai in ais:\n",
    "    ai_plot[ai] = email_count_per_hour_and_ai[email_count_per_hour_and_ai.index.isin([ai], level=0)]['date']"
   ]
  },
  {
   "cell_type": "code",
   "execution_count": null,
   "metadata": {
    "scrolled": true
   },
   "outputs": [],
   "source": [
    "layout = go.Layout(\n",
    "    title='Emails per hour and AI (total {0})'.format(email_count_per_ai['date'].sum()),\n",
    "    xaxis_tickformat = '%d.%m %Hh',\n",
    "    xaxis_range = meeting_dates)\n",
    "\n",
    "fig = go.Figure(layout=layout)\n",
    "\n",
    "for ai in ais:\n",
    "    bar_data = ai_plot[ai]\n",
    "    bar_y = bar_data\n",
    "    bar_x = bar_data.index.get_level_values(1)\n",
    "    bar_title = ai\n",
    "    data = go.Bar(\n",
    "        x=bar_x, \n",
    "        y=bar_y,\n",
    "        name=bar_title)\n",
    "    fig.add_trace(data)\n",
    "\n",
    "fig.update_layout(barmode='relative')\n",
    "fig.show()\n",
    "fig.write_html( \"Emails per hour and AI.html\", auto_open=True)\n",
    "fig.write_image(\"Emails per hour and AI.png\")"
   ]
  }
 ],
 "metadata": {
  "kernelspec": {
   "display_name": "Python 3",
   "language": "python",
   "name": "python3"
  },
  "language_info": {
   "codemirror_mode": {
    "name": "ipython",
    "version": 3
   },
   "file_extension": ".py",
   "mimetype": "text/x-python",
   "name": "python",
   "nbconvert_exporter": "python",
   "pygments_lexer": "ipython3",
   "version": "3.7.3"
  }
 },
 "nbformat": 4,
 "nbformat_minor": 2
}
