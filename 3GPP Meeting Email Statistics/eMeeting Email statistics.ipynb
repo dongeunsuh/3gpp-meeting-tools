{
 "cells": [
  {
   "cell_type": "code",
   "execution_count": 1,
   "metadata": {},
   "outputs": [],
   "source": [
    "# You will need pandas/numpy to run the first part of the script. Then plotly for the second part. You can install plotly via pip (pip install plotly)\n",
    "import pandas as pd\n",
    "import numpy as np"
   ]
  },
  {
   "cell_type": "code",
   "execution_count": null,
   "metadata": {},
   "outputs": [],
   "source": [
    "df = pd.read_csv(\n",
    "    r\"2020.04.24 153334 test email summary.csv\",\n",
    "    index_col=0)\n",
    "df['date'] = pd.to_datetime(df['date'])\n",
    "df['day'] = df['date'].dt.floor('d')\n",
    "df['hour'] = df['date'].dt.floor('h')\n",
    "df['company'] = df['sender address'].str.split('@', n = -1, expand = False).apply(lambda x: x[-1])"
   ]
  },
  {
   "cell_type": "code",
   "execution_count": null,
   "metadata": {},
   "outputs": [],
   "source": [
    "df"
   ]
  },
  {
   "cell_type": "code",
   "execution_count": null,
   "metadata": {},
   "outputs": [],
   "source": [
    "email_count_per_ai  = df.groupby('ai').count()\n",
    "email_count_per_day = df.groupby('day').count()\n",
    "email_count_per_hour = df.groupby('hour').count()"
   ]
  },
  {
   "cell_type": "code",
   "execution_count": null,
   "metadata": {},
   "outputs": [],
   "source": [
    "max_rows = pd.options.display.max_rows\n",
    "pd.options.display.max_rows = None\n",
    "emails_count = df.groupby('sender name').count().sort_values(by='date', ascending=False)\n",
    "# See https://stackoverflow.com/questions/49574817/fill-a-new-pandas-column-with-row-numbers\n",
    "emails_count['ranking'] = np.arange(len(emails_count)) + 1\n",
    "emails_count['emails'] = emails_count['date']\n",
    "display(emails_count[['ranking', 'emails']].iloc[0:25,:])\n",
    "pd.options.display.max_rows = 60"
   ]
  },
  {
   "cell_type": "code",
   "execution_count": null,
   "metadata": {},
   "outputs": [],
   "source": [
    "max_rows = pd.options.display.max_rows\n",
    "pd.options.display.max_rows = None\n",
    "emails_count_company = df.groupby('company').count().sort_values(by='date', ascending=False)\n",
    "\n",
    "# See https://stackoverflow.com/questions/49574817/fill-a-new-pandas-column-with-row-numbers\n",
    "emails_count_company['ranking'] = np.arange(len(emails_count_company)) + 1\n",
    "emails_count_company['emails'] = emails_count_company['date']\n",
    "display(emails_count_company[['ranking', 'emails']].iloc[0:20,:])\n",
    "pd.options.display.max_rows = 60"
   ]
  },
  {
   "cell_type": "code",
   "execution_count": null,
   "metadata": {},
   "outputs": [],
   "source": [
    "import plotly.express as px\n",
    "import plotly.io as pio\n",
    "import plotly.graph_objects as go"
   ]
  },
  {
   "cell_type": "code",
   "execution_count": null,
   "metadata": {
    "scrolled": false
   },
   "outputs": [],
   "source": [
    "data = go.Bar(\n",
    "    x=email_count_per_ai.index, \n",
    "    y=email_count_per_ai['date'])\n",
    "layout = go.Layout(\n",
    "    xaxis= {'type': 'category'},\n",
    "    title='Emails per #AI (total {0})'.format(email_count_per_ai['date'].sum()))\n",
    "fig = go.Figure(data=data, layout=layout)\n",
    "fig.show()"
   ]
  },
  {
   "cell_type": "code",
   "execution_count": null,
   "metadata": {},
   "outputs": [],
   "source": [
    "data = go.Bar(\n",
    "    x=email_count_per_day.index, \n",
    "    y=email_count_per_day['date'])\n",
    "layout = go.Layout(\n",
    "    xaxis= {'type': 'category'},\n",
    "    title='Emails per day (total {0})'.format(email_count_per_ai['date'].sum()))\n",
    "fig = go.Figure(data=data, layout=layout)\n",
    "fig.show()"
   ]
  },
  {
   "cell_type": "code",
   "execution_count": null,
   "metadata": {},
   "outputs": [],
   "source": [
    "data = go.Bar(\n",
    "    x=email_count_per_hour.index, \n",
    "    y=email_count_per_hour['date'])\n",
    "layout = go.Layout(\n",
    "    xaxis= {'type': 'category'},\n",
    "    title='Emails per hour (total {0})'.format(email_count_per_ai['date'].sum()))\n",
    "fig = go.Figure(data=data, layout=layout)\n",
    "fig.show()"
   ]
  }
 ],
 "metadata": {
  "kernelspec": {
   "display_name": "Python 3",
   "language": "python",
   "name": "python3"
  },
  "language_info": {
   "codemirror_mode": {
    "name": "ipython",
    "version": 3
   },
   "file_extension": ".py",
   "mimetype": "text/x-python",
   "name": "python",
   "nbconvert_exporter": "python",
   "pygments_lexer": "ipython3",
   "version": "3.7.3"
  }
 },
 "nbformat": 4,
 "nbformat_minor": 2
}
